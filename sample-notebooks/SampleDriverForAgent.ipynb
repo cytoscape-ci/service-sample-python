{
 "cells": [
  {
   "cell_type": "markdown",
   "metadata": {},
   "source": [
    "# New Submit Agent Sample Services\n",
    "\n"
   ]
  },
  {
   "cell_type": "markdown",
   "metadata": {},
   "source": [
    "## Sample: Access Raw Service API created with Flask"
   ]
  },
  {
   "cell_type": "code",
   "execution_count": 17,
   "metadata": {
    "collapsed": false
   },
   "outputs": [
    {
     "name": "stdout",
     "output_type": "stream",
     "text": [
      "http://localhost:3333/\n"
     ]
    }
   ],
   "source": [
    "# Test raw API\n",
    "\n",
    "BASE = \"http://localhost:3333/\"\n",
    "\n",
    "import requests\n",
    "import json\n",
    "\n",
    "def jprint(data):\n",
    "    print(json.dumps(data, indent=4))\n",
    "\n",
    "# Change this to  your Docker container's IP\n",
    "HEADERS = {'Content-Type': 'application/json'}\n",
    "\n",
    "\n",
    "# Click the link below to see the service list...\n",
    "print(BASE)\n",
    "\n",
    "query1 = {\n",
    "    \"ids\": [\"B7ZA85\", \"P12345\"],\n",
    "    \"from\": \"ACC\", # From Uniprot ACC\n",
    "    \"to\": 'GENENAME' # To human readable gene symbol\n",
    "}\n",
    "\n",
    "query2 = {\n",
    "    \"ids\": [\"kras\", \"hras\"], # Gene names as input\n",
    "    \"from\": \"GENENAME\",\n",
    "    \"to\": 'ACC' # To Uniprot ID\n",
    "}\n",
    "\n",
    "res1 = requests.post(BASE + 'idmapping', data=json.dumps(query1), headers=HEADERS)\n",
    "res2 = requests.post(BASE + 'idmapping', data=json.dumps(query2), headers=HEADERS)\n",
    "\n",
    "# display result\n",
    "#jprint(res1.json())\n",
    "#jprint(res2.json())"
   ]
  },
  {
   "cell_type": "markdown",
   "metadata": {},
   "source": [
    "## Sample 2: Use Agent"
   ]
  },
  {
   "cell_type": "code",
   "execution_count": 24,
   "metadata": {
    "collapsed": false
   },
   "outputs": [
    {
     "name": "stdout",
     "output_type": "stream",
     "text": [
      "{\n",
      "    \"description\": \"Simple ID mapper using Uniprot API.\",\n",
      "    \"serviceName\": \"uniprot-id-mapper\"\n",
      "}\n"
     ]
    }
   ],
   "source": [
    "# Use Agent instead of raw API\n",
    "SERVICE_NAME = \"id-mapping-service\"\n",
    "PROXY = \"http://localhost:8080/\" + SERVICE_NAME + \"/v1\"\n",
    "\n",
    "# Use GET method to check service is actually working...\n",
    "res0 = requests.get(PROXY + \"/idmapping\", headers=HEADERS)\n",
    "jprint(res0.json())"
   ]
  },
  {
   "cell_type": "code",
   "execution_count": 27,
   "metadata": {
    "collapsed": false
   },
   "outputs": [],
   "source": [
    "# res1 = requests.post(PROXY + \"/idmapping\", data=json.dumps(query1), headers=HEADERS)\n",
    "res1 = requests.post(PROXY + \"/idmapping\", data=json.dumps(query2), headers=HEADERS)\n",
    "\n",
    "# Print result\n",
    "#jprint(res1.json())"
   ]
  }
 ],
 "metadata": {
  "kernelspec": {
   "display_name": "Python 3",
   "language": "python",
   "name": "python3"
  },
  "language_info": {
   "codemirror_mode": {
    "name": "ipython",
    "version": 3
   },
   "file_extension": ".py",
   "mimetype": "text/x-python",
   "name": "python",
   "nbconvert_exporter": "python",
   "pygments_lexer": "ipython3",
   "version": "3.4.3"
  }
 },
 "nbformat": 4,
 "nbformat_minor": 0
}
